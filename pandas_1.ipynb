{
 "cells": [
  {
   "cell_type": "markdown",
   "id": "268b6583",
   "metadata": {},
   "source": [
    "# Pandas"
   ]
  },
  {
   "cell_type": "code",
   "execution_count": 10,
   "id": "83fdbfc5",
   "metadata": {},
   "outputs": [],
   "source": [
    "# in pandas have three types\n",
    "# 1. series 2.DataFrame 3. panel(combination series and DataFrame)"
   ]
  },
  {
   "cell_type": "code",
   "execution_count": 11,
   "id": "7a97f847",
   "metadata": {},
   "outputs": [
    {
     "data": {
      "text/plain": [
       "0    1\n",
       "1    2\n",
       "2    3\n",
       "3    4\n",
       "dtype: int64"
      ]
     },
     "execution_count": 11,
     "metadata": {},
     "output_type": "execute_result"
    }
   ],
   "source": [
    "# how to create series\n",
    "import pandas as pd\n",
    "s = pd.Series([1,2,3,4])\n",
    "s"
   ]
  },
  {
   "cell_type": "raw",
   "id": "5d768774",
   "metadata": {},
   "source": [
    "# series is a 1_Dim array\n",
    "# Series \"S\" will capital\n",
    "# syntax is\n",
    "pd.Series(\n",
    "    data=None,\n",
    "    index=None,\n",
    "    dtype=None,\n",
    "    name=None,\n",
    "    copy=False,\n",
    "    fastpath=False,\n",
    ")"
   ]
  },
  {
   "cell_type": "code",
   "execution_count": 12,
   "id": "dbe6eae4",
   "metadata": {},
   "outputs": [
    {
     "data": {
      "text/plain": [
       "Series([], dtype: object)"
      ]
     },
     "execution_count": 12,
     "metadata": {},
     "output_type": "execute_result"
    }
   ],
   "source": [
    "# how to create empty series\n",
    "pd.Series(dtype=\"object\")"
   ]
  },
  {
   "cell_type": "code",
   "execution_count": 13,
   "id": "d546b351",
   "metadata": {},
   "outputs": [
    {
     "data": {
      "text/plain": [
       "0    10\n",
       "1    20\n",
       "2    30\n",
       "3    40\n",
       "4    50\n",
       "dtype: int64"
      ]
     },
     "execution_count": 13,
     "metadata": {},
     "output_type": "execute_result"
    }
   ],
   "source": [
    "data = [10, 20, 30 ,40, 50]\n",
    "pd.Series(data)"
   ]
  },
  {
   "cell_type": "code",
   "execution_count": 14,
   "id": "76ad8bd6",
   "metadata": {},
   "outputs": [
    {
     "data": {
      "text/plain": [
       "0     1\n",
       "1     2\n",
       "2     3\n",
       "3     4\n",
       "4     5\n",
       "5     6\n",
       "6     7\n",
       "7     8\n",
       "8     9\n",
       "9    10\n",
       "dtype: int32"
      ]
     },
     "execution_count": 14,
     "metadata": {},
     "output_type": "execute_result"
    }
   ],
   "source": [
    "# using numpy create a series\n",
    "import numpy as np\n",
    "pd.Series(np.arange(1,11))"
   ]
  },
  {
   "cell_type": "code",
   "execution_count": null,
   "id": "4b1820fc",
   "metadata": {},
   "outputs": [],
   "source": [
    "# series is composed two things \n",
    "# 1. index(label) 2. values(data)"
   ]
  },
  {
   "cell_type": "markdown",
   "id": "5ff4aa60",
   "metadata": {},
   "source": [
    "# Index in series"
   ]
  },
  {
   "cell_type": "code",
   "execution_count": 15,
   "id": "4442fb33",
   "metadata": {},
   "outputs": [
    {
     "data": {
      "text/plain": [
       "0    1\n",
       "1    2\n",
       "2    3\n",
       "3    4\n",
       "dtype: int64"
      ]
     },
     "execution_count": 15,
     "metadata": {},
     "output_type": "execute_result"
    }
   ],
   "source": [
    "s"
   ]
  },
  {
   "cell_type": "code",
   "execution_count": null,
   "id": "64004a91",
   "metadata": {},
   "outputs": [],
   "source": [
    "# if we pass the data in series they get index is by default\n",
    "# but we want to get own indexing its possible, we can get our own indexing"
   ]
  },
  {
   "cell_type": "code",
   "execution_count": 16,
   "id": "28bdc425",
   "metadata": {},
   "outputs": [
    {
     "data": {
      "text/plain": [
       "1    1\n",
       "2    2\n",
       "3    3\n",
       "4    4\n",
       "5    5\n",
       "6    6\n",
       "dtype: int32"
      ]
     },
     "execution_count": 16,
     "metadata": {},
     "output_type": "execute_result"
    }
   ],
   "source": [
    "a = pd.Series(np.arange(1, 7), index=np.arange(1,7))\n",
    "a"
   ]
  },
  {
   "cell_type": "code",
   "execution_count": 17,
   "id": "5fb3306a",
   "metadata": {},
   "outputs": [
    {
     "data": {
      "text/plain": [
       "A    1\n",
       "B    2\n",
       "C    3\n",
       "D    4\n",
       "E    5\n",
       "F    6\n",
       "dtype: int32"
      ]
     },
     "execution_count": 17,
     "metadata": {},
     "output_type": "execute_result"
    }
   ],
   "source": [
    "# if we want to get character in index\n",
    "# but number of data/ values equal number of index must be match otherwise its will give error\n",
    "a = pd.Series(np.arange(1, 7), index=[\"A\", \"B\", \"C\", \"D\", \"E\", \"F\"])\n",
    "a"
   ]
  },
  {
   "cell_type": "code",
   "execution_count": 24,
   "id": "83806c83",
   "metadata": {},
   "outputs": [
    {
     "data": {
      "text/plain": [
       "6"
      ]
     },
     "execution_count": 24,
     "metadata": {},
     "output_type": "execute_result"
    }
   ],
   "source": [
    "a[5] # we will get the charater as index but we want access the data in series we need to int index but (dtype is int)"
   ]
  },
  {
   "cell_type": "markdown",
   "id": "de26f28d",
   "metadata": {},
   "source": [
    "# dtype in series , how to change dtype"
   ]
  },
  {
   "cell_type": "code",
   "execution_count": 26,
   "id": "c458cdd8",
   "metadata": {},
   "outputs": [
    {
     "data": {
      "text/plain": [
       "0    10\n",
       "1    20\n",
       "2    30\n",
       "3    40\n",
       "4    50\n",
       "5    60\n",
       "dtype: int64"
      ]
     },
     "execution_count": 26,
     "metadata": {},
     "output_type": "execute_result"
    }
   ],
   "source": [
    "s1 = pd.Series([10,20, 30, 40, 50, 60])\n",
    "s1"
   ]
  },
  {
   "cell_type": "code",
   "execution_count": 31,
   "id": "d61376dd",
   "metadata": {},
   "outputs": [
    {
     "data": {
      "text/plain": [
       "0    10\n",
       "1    20\n",
       "2    30\n",
       "3    40\n",
       "4    50\n",
       "5    60\n",
       "dtype: int8"
      ]
     },
     "execution_count": 31,
     "metadata": {},
     "output_type": "execute_result"
    }
   ],
   "source": [
    "s1 = pd.Series([10,20, 30, 40, 50, 60],dtype=\"int8\") # change dtype int64 into int8\n",
    "s1 "
   ]
  },
  {
   "cell_type": "code",
   "execution_count": 32,
   "id": "9517ea12",
   "metadata": {},
   "outputs": [
    {
     "data": {
      "text/plain": [
       "0    10\n",
       "1    20\n",
       "2    30\n",
       "3    40\n",
       "4    50\n",
       "5    60\n",
       "dtype: object"
      ]
     },
     "execution_count": 32,
     "metadata": {},
     "output_type": "execute_result"
    }
   ],
   "source": [
    "s2 = pd.Series([10,20, 30, 40, 50, 60], dtype=\"object\") # object means string\n",
    "s2"
   ]
  },
  {
   "cell_type": "code",
   "execution_count": 34,
   "id": "146f3038",
   "metadata": {},
   "outputs": [
    {
     "data": {
      "text/plain": [
       "0       a\n",
       "1      12\n",
       "2      34\n",
       "3    35.0\n",
       "dtype: object"
      ]
     },
     "execution_count": 34,
     "metadata": {},
     "output_type": "execute_result"
    }
   ],
   "source": [
    "s3 = pd.Series([\"a\", 12, 34, 35.0, 3+4j]) # in this series dtype is object\n",
    "s3"
   ]
  },
  {
   "cell_type": "code",
   "execution_count": 43,
   "id": "bd23e07b",
   "metadata": {},
   "outputs": [
    {
     "data": {
      "text/plain": [
       "0    12.0+0.0j\n",
       "1    34.0+0.0j\n",
       "2    35.0+0.0j\n",
       "3     3.0+4.0j\n",
       "dtype: complex64"
      ]
     },
     "execution_count": 43,
     "metadata": {},
     "output_type": "execute_result"
    }
   ],
   "source": [
    "pd.Series([12, 34, 35.0, 3+4j], dtype=\"complex64\") # its dtype is complex, by default is 'complex128'"
   ]
  },
  {
   "cell_type": "code",
   "execution_count": 44,
   "id": "b1782b2e",
   "metadata": {},
   "outputs": [
    {
     "data": {
      "text/plain": [
       "0    12.0\n",
       "1    34.0\n",
       "2    35.0\n",
       "dtype: float64"
      ]
     },
     "execution_count": 44,
     "metadata": {},
     "output_type": "execute_result"
    }
   ],
   "source": [
    "pd.Series([12, 34, 35.0]) # dtype is float"
   ]
  },
  {
   "cell_type": "markdown",
   "id": "7242bc5c",
   "metadata": {},
   "source": [
    "# Name"
   ]
  },
  {
   "cell_type": "code",
   "execution_count": 47,
   "id": "a05d0adc",
   "metadata": {},
   "outputs": [
    {
     "data": {
      "text/plain": [
       "0    1\n",
       "1    2\n",
       "2    3\n",
       "3    4\n",
       "4    5\n",
       "Name: a1, dtype: int32"
      ]
     },
     "execution_count": 47,
     "metadata": {},
     "output_type": "execute_result"
    }
   ],
   "source": [
    "pd.Series(np.arange(1,6), name=\"a1\")"
   ]
  },
  {
   "cell_type": "code",
   "execution_count": 49,
   "id": "edfd65ee",
   "metadata": {},
   "outputs": [
    {
     "data": {
      "text/plain": [
       "0    1\n",
       "1    2\n",
       "2    3\n",
       "3    4\n",
       "dtype: int64"
      ]
     },
     "execution_count": 49,
     "metadata": {},
     "output_type": "execute_result"
    }
   ],
   "source": [
    "# fetch the values\n",
    "s"
   ]
  },
  {
   "cell_type": "code",
   "execution_count": 52,
   "id": "bb0a0549",
   "metadata": {},
   "outputs": [
    {
     "data": {
      "text/plain": [
       "array([1, 2, 3, 4], dtype=int64)"
      ]
     },
     "execution_count": 52,
     "metadata": {},
     "output_type": "execute_result"
    }
   ],
   "source": [
    "s.values"
   ]
  },
  {
   "cell_type": "code",
   "execution_count": 56,
   "id": "789add5a",
   "metadata": {},
   "outputs": [
    {
     "data": {
      "text/plain": [
       "A    1\n",
       "B    2\n",
       "C    3\n",
       "D    4\n",
       "E    5\n",
       "F    6\n",
       "dtype: int32"
      ]
     },
     "execution_count": 56,
     "metadata": {},
     "output_type": "execute_result"
    }
   ],
   "source": [
    "# i want get index\n",
    "a"
   ]
  },
  {
   "cell_type": "code",
   "execution_count": 57,
   "id": "324c0f5c",
   "metadata": {},
   "outputs": [
    {
     "data": {
      "text/plain": [
       "Index(['A', 'B', 'C', 'D', 'E', 'F'], dtype='object')"
      ]
     },
     "execution_count": 57,
     "metadata": {},
     "output_type": "execute_result"
    }
   ],
   "source": [
    "a.index"
   ]
  },
  {
   "cell_type": "code",
   "execution_count": 59,
   "id": "6b743ac9",
   "metadata": {},
   "outputs": [
    {
     "data": {
      "text/plain": [
       "dtype('int32')"
      ]
     },
     "execution_count": 59,
     "metadata": {},
     "output_type": "execute_result"
    }
   ],
   "source": [
    "a.dtype"
   ]
  },
  {
   "cell_type": "markdown",
   "id": "8b5a36db",
   "metadata": {},
   "source": [
    "# Summarized report on the series"
   ]
  },
  {
   "cell_type": "code",
   "execution_count": 65,
   "id": "fbc5c028",
   "metadata": {},
   "outputs": [
    {
     "data": {
      "text/plain": [
       "count      6\n",
       "unique     6\n",
       "top       40\n",
       "freq       1\n",
       "dtype: int64"
      ]
     },
     "execution_count": 65,
     "metadata": {},
     "output_type": "execute_result"
    }
   ],
   "source": [
    "s1.describe()"
   ]
  },
  {
   "cell_type": "code",
   "execution_count": 66,
   "id": "7b34fdf5",
   "metadata": {},
   "outputs": [
    {
     "data": {
      "text/plain": [
       "0    10\n",
       "1    20\n",
       "2    30\n",
       "3    40\n",
       "4    50\n",
       "5    60\n",
       "dtype: object"
      ]
     },
     "execution_count": 66,
     "metadata": {},
     "output_type": "execute_result"
    }
   ],
   "source": [
    "s1"
   ]
  },
  {
   "cell_type": "markdown",
   "id": "8f4ac73a",
   "metadata": {},
   "source": [
    "# fetch the values"
   ]
  },
  {
   "cell_type": "code",
   "execution_count": 71,
   "id": "1691475b",
   "metadata": {},
   "outputs": [
    {
     "data": {
      "text/plain": [
       "0    1\n",
       "1    2\n",
       "2    3\n",
       "3    4\n",
       "4    5\n",
       "5    6\n",
       "6    7\n",
       "7    8\n",
       "8    9\n",
       "dtype: int64"
      ]
     },
     "execution_count": 71,
     "metadata": {},
     "output_type": "execute_result"
    }
   ],
   "source": [
    "a1 = pd.Series(range(1,10))\n",
    "a1"
   ]
  },
  {
   "cell_type": "code",
   "execution_count": 72,
   "id": "0f644815",
   "metadata": {},
   "outputs": [
    {
     "data": {
      "text/plain": [
       "0    1\n",
       "1    2\n",
       "2    3\n",
       "3    4\n",
       "4    5\n",
       "dtype: int64"
      ]
     },
     "execution_count": 72,
     "metadata": {},
     "output_type": "execute_result"
    }
   ],
   "source": [
    "# fetch first five values\n",
    "# head default 5 \n",
    "# Signature: a1.head(n: 'int' = 5) -> 'FrameOrSeries' n\n",
    "a1.head()"
   ]
  },
  {
   "cell_type": "code",
   "execution_count": 73,
   "id": "549dd95c",
   "metadata": {},
   "outputs": [
    {
     "data": {
      "text/plain": [
       "0    1\n",
       "1    2\n",
       "dtype: int64"
      ]
     },
     "execution_count": 73,
     "metadata": {},
     "output_type": "execute_result"
    }
   ],
   "source": [
    "a1.head(2) # its return 1st two entries"
   ]
  },
  {
   "cell_type": "markdown",
   "id": "0d699065",
   "metadata": {},
   "source": [
    "# i want fetch last values"
   ]
  },
  {
   "cell_type": "code",
   "execution_count": 74,
   "id": "b759d8e4",
   "metadata": {},
   "outputs": [
    {
     "data": {
      "text/plain": [
       "4    5\n",
       "5    6\n",
       "6    7\n",
       "7    8\n",
       "8    9\n",
       "dtype: int64"
      ]
     },
     "execution_count": 74,
     "metadata": {},
     "output_type": "execute_result"
    }
   ],
   "source": [
    "a1.tail() # tail also default 5"
   ]
  },
  {
   "cell_type": "code",
   "execution_count": 80,
   "id": "ea559152",
   "metadata": {},
   "outputs": [
    {
     "data": {
      "text/plain": [
       "7    8\n",
       "8    9\n",
       "dtype: int64"
      ]
     },
     "execution_count": 80,
     "metadata": {},
     "output_type": "execute_result"
    }
   ],
   "source": [
    "a1.tail(2) # last 2 entries"
   ]
  },
  {
   "cell_type": "markdown",
   "id": "e13affc9",
   "metadata": {},
   "source": [
    "# Unique "
   ]
  },
  {
   "cell_type": "code",
   "execution_count": 82,
   "id": "064342bc",
   "metadata": {},
   "outputs": [
    {
     "data": {
      "text/plain": [
       "0    10\n",
       "1    12\n",
       "2    21\n",
       "3    12\n",
       "4    10\n",
       "5    45\n",
       "6    41\n",
       "7    21\n",
       "dtype: int64"
      ]
     },
     "execution_count": 82,
     "metadata": {},
     "output_type": "execute_result"
    }
   ],
   "source": [
    "a2 = pd.Series([10,12, 21, 12, 10, 45, 41, 21])\n",
    "a2"
   ]
  },
  {
   "cell_type": "code",
   "execution_count": 84,
   "id": "02e3be5d",
   "metadata": {},
   "outputs": [
    {
     "data": {
      "text/plain": [
       "array([10, 12, 21, 45, 41], dtype=int64)"
      ]
     },
     "execution_count": 84,
     "metadata": {},
     "output_type": "execute_result"
    }
   ],
   "source": [
    "a2.unique() # return all unqiue value"
   ]
  },
  {
   "cell_type": "code",
   "execution_count": 91,
   "id": "e2be9cb3",
   "metadata": {},
   "outputs": [
    {
     "data": {
      "text/plain": [
       "array([1, 2, 3, 4, 5, 6])"
      ]
     },
     "execution_count": 91,
     "metadata": {},
     "output_type": "execute_result"
    }
   ],
   "source": [
    "a.unique()"
   ]
  },
  {
   "cell_type": "markdown",
   "id": "4740d37c",
   "metadata": {},
   "source": [
    "# Count the unique record"
   ]
  },
  {
   "cell_type": "code",
   "execution_count": 92,
   "id": "159a5b61",
   "metadata": {},
   "outputs": [
    {
     "data": {
      "text/plain": [
       "5"
      ]
     },
     "execution_count": 92,
     "metadata": {},
     "output_type": "execute_result"
    }
   ],
   "source": [
    "a2.nunique() # get the count of unique record\n",
    "# its tell you each unique record"
   ]
  },
  {
   "cell_type": "markdown",
   "id": "58810fef",
   "metadata": {},
   "source": [
    "# count values"
   ]
  },
  {
   "cell_type": "code",
   "execution_count": 97,
   "id": "6224e2ec",
   "metadata": {},
   "outputs": [
    {
     "data": {
      "text/plain": [
       "10    2\n",
       "12    2\n",
       "21    2\n",
       "41    1\n",
       "45    1\n",
       "dtype: int64"
      ]
     },
     "execution_count": 97,
     "metadata": {},
     "output_type": "execute_result"
    }
   ],
   "source": [
    "a2.value_counts()"
   ]
  },
  {
   "cell_type": "markdown",
   "id": "bb5cb846",
   "metadata": {},
   "source": [
    "# Addition of series"
   ]
  },
  {
   "cell_type": "code",
   "execution_count": 99,
   "id": "4d79d900",
   "metadata": {},
   "outputs": [
    {
     "data": {
      "text/plain": [
       "0    10\n",
       "1    21\n",
       "2    12\n",
       "dtype: int64"
      ]
     },
     "execution_count": 99,
     "metadata": {},
     "output_type": "execute_result"
    }
   ],
   "source": [
    "s1 = pd.Series([10, 21, 12])\n",
    "s1"
   ]
  },
  {
   "cell_type": "code",
   "execution_count": 101,
   "id": "5e72a229",
   "metadata": {},
   "outputs": [
    {
     "data": {
      "text/plain": [
       "0    21\n",
       "1    41\n",
       "2    32\n",
       "3    14\n",
       "dtype: int64"
      ]
     },
     "execution_count": 101,
     "metadata": {},
     "output_type": "execute_result"
    }
   ],
   "source": [
    "s2 = pd.Series([21, 41, 32, 14])\n",
    "s2"
   ]
  },
  {
   "cell_type": "code",
   "execution_count": 102,
   "id": "65d0bd02",
   "metadata": {},
   "outputs": [
    {
     "data": {
      "text/plain": [
       "0    31.0\n",
       "1    62.0\n",
       "2    44.0\n",
       "3     NaN\n",
       "dtype: float64"
      ]
     },
     "execution_count": 102,
     "metadata": {},
     "output_type": "execute_result"
    }
   ],
   "source": [
    "s1 + s2 # elementwise addition\n",
    "# NaN stands for not a number"
   ]
  },
  {
   "cell_type": "code",
   "execution_count": null,
   "id": "c7511f70",
   "metadata": {},
   "outputs": [],
   "source": [
    "# first series number of enteries must be match of second series  otherwise its put the unmatch index NaN(not a Number)\n",
    "# s1 is 3 enteries and s2 is 4 enteries  \n",
    "# index 3 is NaN(elementwise addition)"
   ]
  },
  {
   "cell_type": "code",
   "execution_count": 106,
   "id": "06e9e8ca",
   "metadata": {},
   "outputs": [
    {
     "data": {
      "text/plain": [
       "0    210.0\n",
       "1    861.0\n",
       "2    384.0\n",
       "3      NaN\n",
       "dtype: float64"
      ]
     },
     "execution_count": 106,
     "metadata": {},
     "output_type": "execute_result"
    }
   ],
   "source": [
    "s2 * s1"
   ]
  },
  {
   "cell_type": "markdown",
   "id": "f48fa843",
   "metadata": {},
   "source": [
    "# append two series"
   ]
  },
  {
   "cell_type": "code",
   "execution_count": 107,
   "id": "cb3f6735",
   "metadata": {},
   "outputs": [
    {
     "data": {
      "text/plain": [
       "(0    10\n",
       " 1    21\n",
       " 2    12\n",
       " dtype: int64,\n",
       " 0    21\n",
       " 1    41\n",
       " 2    32\n",
       " 3    14\n",
       " dtype: int64)"
      ]
     },
     "execution_count": 107,
     "metadata": {},
     "output_type": "execute_result"
    }
   ],
   "source": [
    "s1, s2"
   ]
  },
  {
   "cell_type": "code",
   "execution_count": 109,
   "id": "f8dc5d04",
   "metadata": {},
   "outputs": [
    {
     "data": {
      "text/plain": [
       "0    10\n",
       "1    21\n",
       "2    12\n",
       "0    21\n",
       "1    41\n",
       "2    32\n",
       "3    14\n",
       "dtype: int64"
      ]
     },
     "execution_count": 109,
     "metadata": {},
     "output_type": "execute_result"
    }
   ],
   "source": [
    "s1.append(s2) # s2 append in s1"
   ]
  },
  {
   "cell_type": "code",
   "execution_count": 110,
   "id": "a88ec6bc",
   "metadata": {},
   "outputs": [
    {
     "data": {
      "text/plain": [
       "0    10\n",
       "1    21\n",
       "2    12\n",
       "3    21\n",
       "4    41\n",
       "5    32\n",
       "6    14\n",
       "dtype: int64"
      ]
     },
     "execution_count": 110,
     "metadata": {},
     "output_type": "execute_result"
    }
   ],
   "source": [
    "s1.append(s2, ignore_index=True) # But the index ordered is change , how to solve this "
   ]
  },
  {
   "cell_type": "markdown",
   "id": "adfe5753",
   "metadata": {},
   "source": [
    "# Remove "
   ]
  },
  {
   "cell_type": "code",
   "execution_count": 111,
   "id": "3391649c",
   "metadata": {},
   "outputs": [
    {
     "data": {
      "text/plain": [
       "0    1\n",
       "1    2\n",
       "2    3\n",
       "3    4\n",
       "dtype: int64"
      ]
     },
     "execution_count": 111,
     "metadata": {},
     "output_type": "execute_result"
    }
   ],
   "source": [
    "s"
   ]
  },
  {
   "cell_type": "code",
   "execution_count": 117,
   "id": "cc7661f4",
   "metadata": {},
   "outputs": [
    {
     "data": {
      "text/plain": [
       "1"
      ]
     },
     "execution_count": 117,
     "metadata": {},
     "output_type": "execute_result"
    }
   ],
   "source": [
    "# Return item and drops from series. Raise KeyError if not found\n",
    "s.pop(0) # put inside the index "
   ]
  },
  {
   "cell_type": "code",
   "execution_count": 118,
   "id": "0b129193",
   "metadata": {},
   "outputs": [
    {
     "data": {
      "text/plain": [
       "1    2\n",
       "2    3\n",
       "3    4\n",
       "dtype: int64"
      ]
     },
     "execution_count": 118,
     "metadata": {},
     "output_type": "execute_result"
    }
   ],
   "source": [
    "s"
   ]
  },
  {
   "cell_type": "markdown",
   "id": "86ee5a0a",
   "metadata": {},
   "source": [
    "# N - largest"
   ]
  },
  {
   "cell_type": "code",
   "execution_count": 120,
   "id": "458cdaf4",
   "metadata": {},
   "outputs": [
    {
     "data": {
      "text/plain": [
       "0    1\n",
       "1    2\n",
       "2    3\n",
       "3    4\n",
       "4    5\n",
       "5    6\n",
       "6    7\n",
       "7    8\n",
       "8    9\n",
       "dtype: int64"
      ]
     },
     "execution_count": 120,
     "metadata": {},
     "output_type": "execute_result"
    }
   ],
   "source": [
    "a1"
   ]
  },
  {
   "cell_type": "code",
   "execution_count": 121,
   "id": "daa52c1e",
   "metadata": {},
   "outputs": [
    {
     "data": {
      "text/plain": [
       "8    9\n",
       "7    8\n",
       "6    7\n",
       "5    6\n",
       "4    5\n",
       "dtype: int64"
      ]
     },
     "execution_count": 121,
     "metadata": {},
     "output_type": "execute_result"
    }
   ],
   "source": [
    "# Return the largest `n` elements.\n",
    "a1.nlargest() # based on data\n",
    "# return first 5 largest number default is size is 5, in sorted from"
   ]
  },
  {
   "cell_type": "code",
   "execution_count": 122,
   "id": "e2a491ff",
   "metadata": {},
   "outputs": [
    {
     "data": {
      "text/plain": [
       "8    9\n",
       "7    8\n",
       "6    7\n",
       "dtype: int64"
      ]
     },
     "execution_count": 122,
     "metadata": {},
     "output_type": "execute_result"
    }
   ],
   "source": [
    "a1.nlargest(3) # keep = first default"
   ]
  },
  {
   "cell_type": "code",
   "execution_count": 127,
   "id": "2f43aebd",
   "metadata": {},
   "outputs": [
    {
     "data": {
      "text/plain": [
       "8    9\n",
       "7    8\n",
       "6    7\n",
       "dtype: int64"
      ]
     },
     "execution_count": 127,
     "metadata": {},
     "output_type": "execute_result"
    }
   ],
   "source": [
    "a1.nlargest(3, keep=\"last\")"
   ]
  },
  {
   "cell_type": "code",
   "execution_count": 131,
   "id": "46888f9f",
   "metadata": {},
   "outputs": [
    {
     "data": {
      "text/plain": [
       "8    9\n",
       "7    8\n",
       "6    7\n",
       "5    6\n",
       "4    5\n",
       "3    4\n",
       "2    3\n",
       "1    2\n",
       "0    1\n",
       "dtype: int64"
      ]
     },
     "execution_count": 131,
     "metadata": {},
     "output_type": "execute_result"
    }
   ],
   "source": [
    "a1.nlargest(9,keep=\"all\")"
   ]
  },
  {
   "cell_type": "markdown",
   "id": "27d483b0",
   "metadata": {},
   "source": [
    "# n - smallest"
   ]
  },
  {
   "cell_type": "code",
   "execution_count": 136,
   "id": "40e5278d",
   "metadata": {},
   "outputs": [
    {
     "data": {
      "text/plain": [
       "0    1\n",
       "1    2\n",
       "2    3\n",
       "3    4\n",
       "4    5\n",
       "dtype: int64"
      ]
     },
     "execution_count": 136,
     "metadata": {},
     "output_type": "execute_result"
    }
   ],
   "source": [
    " # Return the smallest `n` elements.\n",
    "a1.nsmallest() # default 5"
   ]
  },
  {
   "cell_type": "code",
   "execution_count": 139,
   "id": "573a50f8",
   "metadata": {},
   "outputs": [
    {
     "data": {
      "text/plain": [
       "0    1\n",
       "1    2\n",
       "2    3\n",
       "3    4\n",
       "4    5\n",
       "5    6\n",
       "6    7\n",
       "dtype: int64"
      ]
     },
     "execution_count": 139,
     "metadata": {},
     "output_type": "execute_result"
    }
   ],
   "source": [
    "a1.nsmallest(7, keep=\"all\") "
   ]
  },
  {
   "cell_type": "code",
   "execution_count": 144,
   "id": "ea9f196d",
   "metadata": {},
   "outputs": [
    {
     "data": {
      "text/plain": [
       "0     1\n",
       "1    10\n",
       "2     5\n",
       "3    16\n",
       "4    12\n",
       "5    25\n",
       "6     2\n",
       "7    14\n",
       "dtype: int64"
      ]
     },
     "execution_count": 144,
     "metadata": {},
     "output_type": "execute_result"
    }
   ],
   "source": [
    "x = pd.Series([1, 10, 5, 16, 12, 25, 2, 14])\n",
    "x"
   ]
  },
  {
   "cell_type": "code",
   "execution_count": 145,
   "id": "72ffdfcf",
   "metadata": {},
   "outputs": [
    {
     "data": {
      "text/plain": [
       "0     1\n",
       "6     2\n",
       "2     5\n",
       "1    10\n",
       "4    12\n",
       "dtype: int64"
      ]
     },
     "execution_count": 145,
     "metadata": {},
     "output_type": "execute_result"
    }
   ],
   "source": [
    "x.nsmallest() # defult 5 and sorted"
   ]
  },
  {
   "cell_type": "code",
   "execution_count": 147,
   "id": "a4e43eeb",
   "metadata": {},
   "outputs": [
    {
     "data": {
      "text/plain": [
       "0     1\n",
       "6     2\n",
       "2     5\n",
       "1    10\n",
       "4    12\n",
       "dtype: int64"
      ]
     },
     "execution_count": 147,
     "metadata": {},
     "output_type": "execute_result"
    }
   ],
   "source": [
    "x.nsmallest(keep=\"last\")"
   ]
  },
  {
   "cell_type": "code",
   "execution_count": 148,
   "id": "e828d5ce",
   "metadata": {},
   "outputs": [
    {
     "data": {
      "text/plain": [
       "0     1\n",
       "1    10\n",
       "2     5\n",
       "3    16\n",
       "4    12\n",
       "5    25\n",
       "6     2\n",
       "7    14\n",
       "dtype: int64"
      ]
     },
     "execution_count": 148,
     "metadata": {},
     "output_type": "execute_result"
    }
   ],
   "source": [
    "x"
   ]
  },
  {
   "cell_type": "code",
   "execution_count": 151,
   "id": "dd10c3a2",
   "metadata": {},
   "outputs": [
    {
     "data": {
      "text/plain": [
       "0     1\n",
       "1    10\n",
       "2     5\n",
       "3    16\n",
       "4    12\n",
       "5    25\n",
       "6     2\n",
       "7    14\n",
       "dtype: int8"
      ]
     },
     "execution_count": 151,
     "metadata": {},
     "output_type": "execute_result"
    }
   ],
   "source": [
    "x.astype(\"int8\") # change dtype"
   ]
  },
  {
   "cell_type": "code",
   "execution_count": 152,
   "id": "5869e994",
   "metadata": {},
   "outputs": [
    {
     "data": {
      "text/plain": [
       "0     1\n",
       "1    10\n",
       "2     5\n",
       "3    16\n",
       "4    12\n",
       "5    25\n",
       "6     2\n",
       "7    14\n",
       "dtype: category\n",
       "Categories (8, int64): [1, 2, 5, 10, 12, 14, 16, 25]"
      ]
     },
     "execution_count": 152,
     "metadata": {},
     "output_type": "execute_result"
    }
   ],
   "source": [
    "x.astype(\"category\") # change dtype category"
   ]
  },
  {
   "cell_type": "code",
   "execution_count": 153,
   "id": "a35cc00b",
   "metadata": {},
   "outputs": [
    {
     "data": {
      "text/plain": [
       "1"
      ]
     },
     "execution_count": 153,
     "metadata": {},
     "output_type": "execute_result"
    }
   ],
   "source": [
    "x.ndim"
   ]
  },
  {
   "cell_type": "code",
   "execution_count": 154,
   "id": "4e0f2782",
   "metadata": {},
   "outputs": [
    {
     "data": {
      "text/plain": [
       "8"
      ]
     },
     "execution_count": 154,
     "metadata": {},
     "output_type": "execute_result"
    }
   ],
   "source": [
    "x.size"
   ]
  },
  {
   "cell_type": "code",
   "execution_count": 156,
   "id": "aee521b5",
   "metadata": {},
   "outputs": [
    {
     "data": {
      "text/plain": [
       "dtype('int64')"
      ]
     },
     "execution_count": 156,
     "metadata": {},
     "output_type": "execute_result"
    }
   ],
   "source": [
    "x.dtype"
   ]
  },
  {
   "cell_type": "code",
   "execution_count": 157,
   "id": "0694b19f",
   "metadata": {},
   "outputs": [
    {
     "data": {
      "text/plain": [
       "0     1\n",
       "1    10\n",
       "2     5\n",
       "3    16\n",
       "4    12\n",
       "5    25\n",
       "6     2\n",
       "7    14\n",
       "dtype: int64"
      ]
     },
     "execution_count": 157,
     "metadata": {},
     "output_type": "execute_result"
    }
   ],
   "source": [
    " x"
   ]
  },
  {
   "cell_type": "markdown",
   "id": "e5304d2b",
   "metadata": {},
   "source": [
    "# correlation"
   ]
  },
  {
   "cell_type": "code",
   "execution_count": 158,
   "id": "9c6ca063",
   "metadata": {},
   "outputs": [
    {
     "data": {
      "text/plain": [
       "0    10\n",
       "1    21\n",
       "2    12\n",
       "dtype: int64"
      ]
     },
     "execution_count": 158,
     "metadata": {},
     "output_type": "execute_result"
    }
   ],
   "source": [
    "s1"
   ]
  },
  {
   "cell_type": "code",
   "execution_count": 159,
   "id": "4101b1d0",
   "metadata": {},
   "outputs": [
    {
     "data": {
      "text/plain": [
       "0    21\n",
       "1    41\n",
       "2    32\n",
       "3    14\n",
       "dtype: int64"
      ]
     },
     "execution_count": 159,
     "metadata": {},
     "output_type": "execute_result"
    }
   ],
   "source": [
    "s2"
   ]
  },
  {
   "cell_type": "code",
   "execution_count": 170,
   "id": "3293f6ca",
   "metadata": {},
   "outputs": [
    {
     "data": {
      "text/plain": [
       "0.9172139820609867"
      ]
     },
     "execution_count": 170,
     "metadata": {},
     "output_type": "execute_result"
    }
   ],
   "source": [
    "s1.corr(s2) # correlational other series "
   ]
  },
  {
   "cell_type": "markdown",
   "id": "c8b29f96",
   "metadata": {},
   "source": [
    "# Replace values where condition is false"
   ]
  },
  {
   "cell_type": "code",
   "execution_count": 179,
   "id": "fb21689b",
   "metadata": {},
   "outputs": [
    {
     "data": {
      "text/plain": [
       "0     1\n",
       "1    10\n",
       "2     5\n",
       "3    16\n",
       "4    12\n",
       "5    25\n",
       "6     2\n",
       "7    14\n",
       "dtype: int64"
      ]
     },
     "execution_count": 179,
     "metadata": {},
     "output_type": "execute_result"
    }
   ],
   "source": [
    "x"
   ]
  },
  {
   "cell_type": "code",
   "execution_count": 183,
   "id": "1f54545a",
   "metadata": {},
   "outputs": [
    {
     "data": {
      "text/plain": [
       "0    1.0\n",
       "1    NaN\n",
       "2    NaN\n",
       "3    NaN\n",
       "4    NaN\n",
       "5    NaN\n",
       "6    2.0\n",
       "7    NaN\n",
       "dtype: float64"
      ]
     },
     "execution_count": 183,
     "metadata": {},
     "output_type": "execute_result"
    }
   ],
   "source": [
    "x.where(x<5)"
   ]
  },
  {
   "cell_type": "code",
   "execution_count": 185,
   "id": "ac5243de",
   "metadata": {},
   "outputs": [
    {
     "data": {
      "text/plain": [
       "0    10\n",
       "1    21\n",
       "2    12\n",
       "dtype: int64"
      ]
     },
     "execution_count": 185,
     "metadata": {},
     "output_type": "execute_result"
    }
   ],
   "source": [
    "s1"
   ]
  },
  {
   "cell_type": "code",
   "execution_count": 184,
   "id": "07aec66d",
   "metadata": {},
   "outputs": [
    {
     "data": {
      "text/plain": [
       "0   NaN\n",
       "1   NaN\n",
       "2   NaN\n",
       "dtype: float64"
      ]
     },
     "execution_count": 184,
     "metadata": {},
     "output_type": "execute_result"
    }
   ],
   "source": [
    "s1.where(s1<5)"
   ]
  },
  {
   "cell_type": "code",
   "execution_count": 196,
   "id": "cadf8fee",
   "metadata": {},
   "outputs": [
    {
     "data": {
      "text/plain": [
       "0     1\n",
       "1    --\n",
       "2     5\n",
       "3    --\n",
       "4    --\n",
       "5    --\n",
       "6     2\n",
       "7    --\n",
       "dtype: object"
      ]
     },
     "execution_count": 196,
     "metadata": {},
     "output_type": "execute_result"
    }
   ],
   "source": [
    "#x.where(x<5, other=\"--\", inplace=True)\n",
    "x"
   ]
  },
  {
   "cell_type": "markdown",
   "id": "3b928a4d",
   "metadata": {},
   "source": [
    "# Delaing with NaN value"
   ]
  },
  {
   "cell_type": "code",
   "execution_count": 205,
   "id": "f7237ed0",
   "metadata": {},
   "outputs": [
    {
     "data": {
      "text/plain": [
       "0     NaN\n",
       "1     NaN\n",
       "2    10.0\n",
       "3    20.0\n",
       "4    40.0\n",
       "5     NaN\n",
       "6    32.0\n",
       "dtype: float64"
      ]
     },
     "execution_count": 205,
     "metadata": {},
     "output_type": "execute_result"
    }
   ],
   "source": [
    "z = pd.Series([np.nan, np.nan, 10, 20, 40, np.nan,32]) # create nan values \n",
    "z"
   ]
  },
  {
   "cell_type": "code",
   "execution_count": 207,
   "id": "868f2391",
   "metadata": {},
   "outputs": [
    {
     "data": {
      "text/plain": [
       "0     True\n",
       "1     True\n",
       "2    False\n",
       "3    False\n",
       "4    False\n",
       "5     True\n",
       "6    False\n",
       "dtype: bool"
      ]
     },
     "execution_count": 207,
     "metadata": {},
     "output_type": "execute_result"
    }
   ],
   "source": [
    "z.isna() # isna (not number is present then true otherwise false)\n",
    "# bool series will be output"
   ]
  },
  {
   "cell_type": "markdown",
   "id": "2f77aa9f",
   "metadata": {},
   "source": [
    "# calculate NaN values"
   ]
  },
  {
   "cell_type": "code",
   "execution_count": 208,
   "id": "4a938eba",
   "metadata": {},
   "outputs": [
    {
     "data": {
      "text/plain": [
       "3"
      ]
     },
     "execution_count": 208,
     "metadata": {},
     "output_type": "execute_result"
    }
   ],
   "source": [
    "z.isna().sum()"
   ]
  },
  {
   "cell_type": "markdown",
   "id": "27d73bdc",
   "metadata": {},
   "source": [
    "# fill nan values"
   ]
  },
  {
   "cell_type": "raw",
   "id": "31150183",
   "metadata": {},
   "source": [
    "z.fillna(\n",
    "    value=None,\n",
    "    method=None,\n",
    "    axis=None,\n",
    "    inplace=False,\n",
    "    limit=None,\n",
    "    downcast=None,"
   ]
  },
  {
   "cell_type": "code",
   "execution_count": 209,
   "id": "24ca382d",
   "metadata": {},
   "outputs": [
    {
     "data": {
      "text/plain": [
       "0     0.0\n",
       "1     0.0\n",
       "2    10.0\n",
       "3    20.0\n",
       "4    40.0\n",
       "5     0.0\n",
       "6    32.0\n",
       "dtype: float64"
      ]
     },
     "execution_count": 209,
     "metadata": {},
     "output_type": "execute_result"
    }
   ],
   "source": [
    "z.fillna(0) # fill 0 in nan "
   ]
  },
  {
   "cell_type": "code",
   "execution_count": 215,
   "id": "d439b17b",
   "metadata": {},
   "outputs": [
    {
     "data": {
      "text/plain": [
       "0    missing\n",
       "1    missing\n",
       "2       10.0\n",
       "3       20.0\n",
       "4       40.0\n",
       "5    missing\n",
       "6       32.0\n",
       "dtype: object"
      ]
     },
     "execution_count": 215,
     "metadata": {},
     "output_type": "execute_result"
    }
   ],
   "source": [
    "z.fillna(\"missing\")"
   ]
  },
  {
   "cell_type": "code",
   "execution_count": 219,
   "id": "33b2ed97",
   "metadata": {},
   "outputs": [
    {
     "data": {
      "text/plain": [
       "0     2.0\n",
       "1     2.0\n",
       "2    10.0\n",
       "3    20.0\n",
       "4    40.0\n",
       "5     2.0\n",
       "6    32.0\n",
       "dtype: float64"
      ]
     },
     "execution_count": 219,
     "metadata": {},
     "output_type": "execute_result"
    }
   ],
   "source": [
    "z.fillna(2)"
   ]
  },
  {
   "cell_type": "markdown",
   "id": "3cf24b9f",
   "metadata": {},
   "source": [
    "# fill nan value using mean"
   ]
  },
  {
   "cell_type": "code",
   "execution_count": 220,
   "id": "1d310017",
   "metadata": {},
   "outputs": [
    {
     "data": {
      "text/plain": [
       "0     NaN\n",
       "1     NaN\n",
       "2    10.0\n",
       "3    20.0\n",
       "4    40.0\n",
       "5     NaN\n",
       "6    32.0\n",
       "dtype: float64"
      ]
     },
     "execution_count": 220,
     "metadata": {},
     "output_type": "execute_result"
    }
   ],
   "source": [
    "z"
   ]
  },
  {
   "cell_type": "code",
   "execution_count": 221,
   "id": "08741845",
   "metadata": {},
   "outputs": [
    {
     "data": {
      "text/plain": [
       "0    25.5\n",
       "1    25.5\n",
       "2    10.0\n",
       "3    20.0\n",
       "4    40.0\n",
       "5    25.5\n",
       "6    32.0\n",
       "dtype: float64"
      ]
     },
     "execution_count": 221,
     "metadata": {},
     "output_type": "execute_result"
    }
   ],
   "source": [
    "z.fillna(z.mean())"
   ]
  },
  {
   "cell_type": "code",
   "execution_count": 222,
   "id": "2a17faa4",
   "metadata": {},
   "outputs": [
    {
     "data": {
      "text/plain": [
       "0    26.0\n",
       "1    26.0\n",
       "2    10.0\n",
       "3    20.0\n",
       "4    40.0\n",
       "5    26.0\n",
       "6    32.0\n",
       "dtype: float64"
      ]
     },
     "execution_count": 222,
     "metadata": {},
     "output_type": "execute_result"
    }
   ],
   "source": [
    "z.fillna(z.median()) # Using median "
   ]
  },
  {
   "cell_type": "code",
   "execution_count": 224,
   "id": "218c25c2",
   "metadata": {},
   "outputs": [
    {
     "data": {
      "text/plain": [
       "0     NaN\n",
       "1     NaN\n",
       "2    10.0\n",
       "3    20.0\n",
       "4    40.0\n",
       "5    40.0\n",
       "6    32.0\n",
       "dtype: float64"
      ]
     },
     "execution_count": 224,
     "metadata": {},
     "output_type": "execute_result"
    }
   ],
   "source": [
    "# forward filling\n",
    "z.ffill()"
   ]
  },
  {
   "cell_type": "code",
   "execution_count": 225,
   "id": "5a91875c",
   "metadata": {},
   "outputs": [
    {
     "data": {
      "text/plain": [
       "0    10.0\n",
       "1    10.0\n",
       "2    10.0\n",
       "3    20.0\n",
       "4    40.0\n",
       "5    32.0\n",
       "6    32.0\n",
       "dtype: float64"
      ]
     },
     "execution_count": 225,
     "metadata": {},
     "output_type": "execute_result"
    }
   ],
   "source": [
    "# backword filling\n",
    "z.bfill()"
   ]
  },
  {
   "cell_type": "code",
   "execution_count": 226,
   "id": "a9ec1e3b",
   "metadata": {},
   "outputs": [
    {
     "data": {
      "text/plain": [
       "40.0"
      ]
     },
     "execution_count": 226,
     "metadata": {},
     "output_type": "execute_result"
    }
   ],
   "source": [
    "z.max()"
   ]
  },
  {
   "cell_type": "code",
   "execution_count": 227,
   "id": "34bfb2ed",
   "metadata": {},
   "outputs": [
    {
     "data": {
      "text/plain": [
       "10.0"
      ]
     },
     "execution_count": 227,
     "metadata": {},
     "output_type": "execute_result"
    }
   ],
   "source": [
    "z.min()"
   ]
  },
  {
   "cell_type": "code",
   "execution_count": 228,
   "id": "a5db141c",
   "metadata": {},
   "outputs": [
    {
     "data": {
      "text/plain": [
       "25.5"
      ]
     },
     "execution_count": 228,
     "metadata": {},
     "output_type": "execute_result"
    }
   ],
   "source": [
    "z.mean()"
   ]
  },
  {
   "cell_type": "code",
   "execution_count": 229,
   "id": "4080069b",
   "metadata": {},
   "outputs": [
    {
     "data": {
      "text/plain": [
       "26.0"
      ]
     },
     "execution_count": 229,
     "metadata": {},
     "output_type": "execute_result"
    }
   ],
   "source": [
    "z.median()"
   ]
  },
  {
   "cell_type": "code",
   "execution_count": 234,
   "id": "162ee6bf",
   "metadata": {},
   "outputs": [
    {
     "data": {
      "text/plain": [
       "0     NaN\n",
       "1     NaN\n",
       "2    10.0\n",
       "3    20.0\n",
       "4    40.0\n",
       "5     NaN\n",
       "6    32.0\n",
       "dtype: float64"
      ]
     },
     "execution_count": 234,
     "metadata": {},
     "output_type": "execute_result"
    }
   ],
   "source": [
    "z.mask(z<11,10)"
   ]
  },
  {
   "cell_type": "code",
   "execution_count": null,
   "id": "974c3043",
   "metadata": {},
   "outputs": [],
   "source": []
  },
  {
   "cell_type": "code",
   "execution_count": null,
   "id": "91e3be5a",
   "metadata": {},
   "outputs": [],
   "source": []
  },
  {
   "cell_type": "code",
   "execution_count": null,
   "id": "475ca15d",
   "metadata": {},
   "outputs": [],
   "source": []
  }
 ],
 "metadata": {
  "kernelspec": {
   "display_name": "Python 3 (ipykernel)",
   "language": "python",
   "name": "python3"
  },
  "language_info": {
   "codemirror_mode": {
    "name": "ipython",
    "version": 3
   },
   "file_extension": ".py",
   "mimetype": "text/x-python",
   "name": "python",
   "nbconvert_exporter": "python",
   "pygments_lexer": "ipython3",
   "version": "3.7.7"
  }
 },
 "nbformat": 4,
 "nbformat_minor": 5
}
